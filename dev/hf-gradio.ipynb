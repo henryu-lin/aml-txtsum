{
  "cells": [
    {
      "cell_type": "code",
      "source": [
        "!pip install gradio transformers --upgrade"
      ],
      "outputs": [],
      "execution_count": null,
      "metadata": {
        "collapsed": true,
        "jupyter": {
          "source_hidden": false,
          "outputs_hidden": false
        },
        "nteract": {
          "transient": {
            "deleting": false
          }
        }
      }
    },
    {
      "cell_type": "code",
      "source": [
        "import gradio\r\n",
        "from gradio.mix import Parallel, Series"
      ],
      "outputs": [],
      "execution_count": 2,
      "metadata": {
        "collapsed": true,
        "jupyter": {
          "source_hidden": false,
          "outputs_hidden": false
        },
        "nteract": {
          "transient": {
            "deleting": false
          }
        },
        "gather": {
          "logged": 1623777928553
        }
      }
    },
    {
      "cell_type": "code",
      "source": [
        "# trained with no additional summarization corpus\r\n",
        "demo = gradio.Interface.load(\r\n",
        "    \"huggingface/henryu-lin/bart-large-samsum\",\r\n",
        "    title = \"Conversation Dialogue Summarizer\",\r\n",
        "    description = \"Bart-Large trained on SAMSum dataset\",\r\n",
        "    allow_flagging = False)\r\n",
        "\r\n",
        "demo.launch(share=True)\r\n",
        "# configuration: length penalty 0.6"
      ],
      "outputs": [
        {
          "output_type": "stream",
          "name": "stdout",
          "text": [
            "Running locally at: http://127.0.0.1:7860/\n",
            "This share link will expire in 24 hours. If you need a permanent link, visit: https://gradio.app/introducing-hosted (NEW!)\n",
            "Running on External URL: https://14776.gradio.app\n",
            "Interface loading below...\n"
          ]
        },
        {
          "output_type": "display_data",
          "data": {
            "text/plain": "<IPython.lib.display.IFrame at 0x7f0c653a12b0>",
            "text/html": "\n        <iframe\n            width=\"900\"\n            height=\"500\"\n            src=\"https://14776.gradio.app\"\n            frameborder=\"0\"\n            allowfullscreen\n        ></iframe>\n        "
          },
          "metadata": {}
        },
        {
          "output_type": "execute_result",
          "execution_count": 3,
          "data": {
            "text/plain": "(<Flask 'gradio.networking'>,\n 'http://127.0.0.1:7860/',\n 'https://14776.gradio.app')"
          },
          "metadata": {}
        }
      ],
      "execution_count": 3,
      "metadata": {
        "gather": {
          "logged": 1623777934001
        }
      }
    },
    {
      "cell_type": "code",
      "source": [
        "# fine-tuned on amazon sagemaker with additional CNN/DailyMail summarization corpus\r\n",
        "sagemaker = gradio.Interface.load(\r\n",
        "    \"huggingface/philschmid/bart-large-cnn-samsum\",\r\n",
        "    allow_flagging = False)\r\n",
        "\r\n",
        "Parallel(demo, sagemaker).launch(share=True)"
      ],
      "outputs": [],
      "execution_count": null,
      "metadata": {
        "collapsed": true,
        "jupyter": {
          "source_hidden": false,
          "outputs_hidden": false
        },
        "nteract": {
          "transient": {
            "deleting": false
          }
        },
        "gather": {
          "logged": 1623775643875
        }
      }
    },
    {
      "cell_type": "code",
      "source": [
        "local = gradio.Interface(\"../model/bart-large-samsum\", \"text\", \"text\")\r\n",
        "\r\n",
        "local.launch(share=True)"
      ],
      "outputs": [],
      "execution_count": null,
      "metadata": {
        "collapsed": true,
        "jupyter": {
          "source_hidden": false,
          "outputs_hidden": false
        },
        "nteract": {
          "transient": {
            "deleting": false
          }
        }
      }
    },
    {
      "cell_type": "markdown",
      "source": [
        "Henry: Hey, is Nate coming over to watch the movie tonight?  \r\n",
        "Kevin: Yea, he said he'll start heading over here at around 7. Have you taken out the garbage yet?  \r\n",
        "Henry: Oh I forgot. I'll do that once I'm finished with my assignment for my math class.  \r\n",
        "Kevin: Yea, you should take it out as soon as possible. Also, Nate is bringing his cat.  \r\n",
        "Henry: Okay, see you then."
      ],
      "metadata": {
        "nteract": {
          "transient": {
            "deleting": false
          }
        }
      }
    }
  ],
  "metadata": {
    "kernelspec": {
      "name": "python3",
      "language": "python",
      "display_name": "Python 3"
    },
    "language_info": {
      "name": "python",
      "version": "3.6.9",
      "mimetype": "text/x-python",
      "codemirror_mode": {
        "name": "ipython",
        "version": 3
      },
      "pygments_lexer": "ipython3",
      "nbconvert_exporter": "python",
      "file_extension": ".py"
    },
    "kernel_info": {
      "name": "python3"
    },
    "nteract": {
      "version": "nteract-front-end@1.0.0"
    }
  },
  "nbformat": 4,
  "nbformat_minor": 2
}