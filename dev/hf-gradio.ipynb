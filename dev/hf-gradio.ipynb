{
  "cells": [
    {
      "cell_type": "code",
      "source": [
        "!pip install gradio transformers --upgrade"
      ],
      "outputs": [
        {
          "output_type": "stream",
          "name": "stdout",
          "text": [
            "Requirement already up-to-date: gradio in /anaconda/envs/azureml_py36/lib/python3.6/site-packages (2.0.2)\n",
            "Requirement already up-to-date: transformers in /anaconda/envs/azureml_py36/lib/python3.6/site-packages (4.6.1)\n",
            "Requirement already satisfied, skipping upgrade: scipy in /anaconda/envs/azureml_py36/lib/python3.6/site-packages (from gradio) (1.5.2)\n",
            "Requirement already satisfied, skipping upgrade: matplotlib in /anaconda/envs/azureml_py36/lib/python3.6/site-packages (from gradio) (3.2.1)\n",
            "Requirement already satisfied, skipping upgrade: numpy in /anaconda/envs/azureml_py36/lib/python3.6/site-packages (from gradio) (1.18.5)\n",
            "Requirement already satisfied, skipping upgrade: ffmpy in /anaconda/envs/azureml_py36/lib/python3.6/site-packages (from gradio) (0.3.0)\n",
            "Requirement already satisfied, skipping upgrade: Flask-Login in /anaconda/envs/azureml_py36/lib/python3.6/site-packages (from gradio) (0.5.0)\n",
            "Requirement already satisfied, skipping upgrade: flask-cachebuster in /anaconda/envs/azureml_py36/lib/python3.6/site-packages (from gradio) (1.0.0)\n",
            "Requirement already satisfied, skipping upgrade: analytics-python in /anaconda/envs/azureml_py36/lib/python3.6/site-packages (from gradio) (1.3.1)\n",
            "Requirement already satisfied, skipping upgrade: markdown2 in /anaconda/envs/azureml_py36/lib/python3.6/site-packages (from gradio) (2.4.0)\n",
            "Requirement already satisfied, skipping upgrade: pycryptodome in /anaconda/envs/azureml_py36/lib/python3.6/site-packages (from gradio) (3.10.1)\n",
            "Requirement already satisfied, skipping upgrade: Flask>=1.1.1 in /anaconda/envs/azureml_py36/lib/python3.6/site-packages (from gradio) (2.0.1)\n",
            "Requirement already satisfied, skipping upgrade: paramiko in /anaconda/envs/azureml_py36/lib/python3.6/site-packages (from gradio) (2.7.2)\n",
            "Requirement already satisfied, skipping upgrade: pillow in /anaconda/envs/azureml_py36/lib/python3.6/site-packages (from gradio) (8.2.0)\n",
            "Requirement already satisfied, skipping upgrade: requests in /anaconda/envs/azureml_py36/lib/python3.6/site-packages (from gradio) (2.25.1)\n",
            "Requirement already satisfied, skipping upgrade: pandas in /anaconda/envs/azureml_py36/lib/python3.6/site-packages (from gradio) (0.25.3)\n",
            "Requirement already satisfied, skipping upgrade: Flask-Cors>=3.0.8 in /anaconda/envs/azureml_py36/lib/python3.6/site-packages (from gradio) (3.0.9)\n",
            "Requirement already satisfied, skipping upgrade: importlib-metadata; python_version < \"3.8\" in /anaconda/envs/azureml_py36/lib/python3.6/site-packages (from transformers) (4.0.1)\n",
            "Requirement already satisfied, skipping upgrade: filelock in /anaconda/envs/azureml_py36/lib/python3.6/site-packages (from transformers) (3.0.12)\n",
            "Requirement already satisfied, skipping upgrade: sacremoses in /anaconda/envs/azureml_py36/lib/python3.6/site-packages (from transformers) (0.0.45)\n",
            "Requirement already satisfied, skipping upgrade: regex!=2019.12.17 in /anaconda/envs/azureml_py36/lib/python3.6/site-packages (from transformers) (2021.4.4)\n",
            "Requirement already satisfied, skipping upgrade: dataclasses; python_version < \"3.7\" in /anaconda/envs/azureml_py36/lib/python3.6/site-packages (from transformers) (0.8)\n",
            "Requirement already satisfied, skipping upgrade: tqdm>=4.27 in /anaconda/envs/azureml_py36/lib/python3.6/site-packages (from transformers) (4.60.0)\n",
            "Requirement already satisfied, skipping upgrade: tokenizers<0.11,>=0.10.1 in /anaconda/envs/azureml_py36/lib/python3.6/site-packages (from transformers) (0.10.3)\n",
            "Requirement already satisfied, skipping upgrade: huggingface-hub==0.0.8 in /anaconda/envs/azureml_py36/lib/python3.6/site-packages (from transformers) (0.0.8)\n",
            "Requirement already satisfied, skipping upgrade: packaging in /anaconda/envs/azureml_py36/lib/python3.6/site-packages (from transformers) (20.9)\n",
            "Requirement already satisfied, skipping upgrade: python-dateutil>=2.1 in /anaconda/envs/azureml_py36/lib/python3.6/site-packages (from matplotlib->gradio) (2.8.1)\n",
            "Requirement already satisfied, skipping upgrade: cycler>=0.10 in /anaconda/envs/azureml_py36/lib/python3.6/site-packages (from matplotlib->gradio) (0.10.0)\n",
            "Requirement already satisfied, skipping upgrade: pyparsing!=2.0.4,!=2.1.2,!=2.1.6,>=2.0.1 in /anaconda/envs/azureml_py36/lib/python3.6/site-packages (from matplotlib->gradio) (2.4.7)\n",
            "Requirement already satisfied, skipping upgrade: kiwisolver>=1.0.1 in /anaconda/envs/azureml_py36/lib/python3.6/site-packages (from matplotlib->gradio) (1.3.1)\n",
            "Requirement already satisfied, skipping upgrade: six>=1.5 in /anaconda/envs/azureml_py36/lib/python3.6/site-packages (from analytics-python->gradio) (1.16.0)\n",
            "Requirement already satisfied, skipping upgrade: monotonic>=1.5 in /anaconda/envs/azureml_py36/lib/python3.6/site-packages (from analytics-python->gradio) (1.6)\n",
            "Requirement already satisfied, skipping upgrade: backoff==1.10.0 in /anaconda/envs/azureml_py36/lib/python3.6/site-packages (from analytics-python->gradio) (1.10.0)\n",
            "Requirement already satisfied, skipping upgrade: Werkzeug>=2.0 in /anaconda/envs/azureml_py36/lib/python3.6/site-packages (from Flask>=1.1.1->gradio) (2.0.1)\n",
            "Requirement already satisfied, skipping upgrade: Jinja2>=3.0 in /anaconda/envs/azureml_py36/lib/python3.6/site-packages (from Flask>=1.1.1->gradio) (3.0.1)\n",
            "Requirement already satisfied, skipping upgrade: itsdangerous>=2.0 in /anaconda/envs/azureml_py36/lib/python3.6/site-packages (from Flask>=1.1.1->gradio) (2.0.1)\n",
            "Requirement already satisfied, skipping upgrade: click>=7.1.2 in /anaconda/envs/azureml_py36/lib/python3.6/site-packages (from Flask>=1.1.1->gradio) (7.1.2)\n",
            "Requirement already satisfied, skipping upgrade: pynacl>=1.0.1 in /anaconda/envs/azureml_py36/lib/python3.6/site-packages (from paramiko->gradio) (1.4.0)\n",
            "Requirement already satisfied, skipping upgrade: cryptography>=2.5 in /anaconda/envs/azureml_py36/lib/python3.6/site-packages (from paramiko->gradio) (3.4.7)\n",
            "Requirement already satisfied, skipping upgrade: bcrypt>=3.1.3 in /anaconda/envs/azureml_py36/lib/python3.6/site-packages (from paramiko->gradio) (3.2.0)\n",
            "Requirement already satisfied, skipping upgrade: certifi>=2017.4.17 in /anaconda/envs/azureml_py36/lib/python3.6/site-packages (from requests->gradio) (2020.12.5)\n",
            "Requirement already satisfied, skipping upgrade: idna<3,>=2.5 in /anaconda/envs/azureml_py36/lib/python3.6/site-packages (from requests->gradio) (2.10)\n",
            "Requirement already satisfied, skipping upgrade: chardet<5,>=3.0.2 in /anaconda/envs/azureml_py36/lib/python3.6/site-packages (from requests->gradio) (4.0.0)\n",
            "Requirement already satisfied, skipping upgrade: urllib3<1.27,>=1.21.1 in /anaconda/envs/azureml_py36/lib/python3.6/site-packages (from requests->gradio) (1.25.11)\n",
            "Requirement already satisfied, skipping upgrade: pytz>=2017.2 in /anaconda/envs/azureml_py36/lib/python3.6/site-packages (from pandas->gradio) (2021.1)\n",
            "Requirement already satisfied, skipping upgrade: typing-extensions>=3.6.4; python_version < \"3.8\" in /anaconda/envs/azureml_py36/lib/python3.6/site-packages (from importlib-metadata; python_version < \"3.8\"->transformers) (3.10.0.0)\n",
            "Requirement already satisfied, skipping upgrade: zipp>=0.5 in /anaconda/envs/azureml_py36/lib/python3.6/site-packages (from importlib-metadata; python_version < \"3.8\"->transformers) (3.4.1)\n",
            "Requirement already satisfied, skipping upgrade: joblib in /anaconda/envs/azureml_py36/lib/python3.6/site-packages (from sacremoses->transformers) (0.14.1)\n",
            "Requirement already satisfied, skipping upgrade: MarkupSafe>=2.0 in /anaconda/envs/azureml_py36/lib/python3.6/site-packages (from Jinja2>=3.0->Flask>=1.1.1->gradio) (2.0.1)\n",
            "Requirement already satisfied, skipping upgrade: cffi>=1.4.1 in /anaconda/envs/azureml_py36/lib/python3.6/site-packages (from pynacl>=1.0.1->paramiko->gradio) (1.14.5)\n",
            "Requirement already satisfied, skipping upgrade: pycparser in /anaconda/envs/azureml_py36/lib/python3.6/site-packages (from cffi>=1.4.1->pynacl>=1.0.1->paramiko->gradio) (2.20)\n"
          ]
        }
      ],
      "execution_count": 1,
      "metadata": {
        "collapsed": true,
        "jupyter": {
          "source_hidden": false,
          "outputs_hidden": false
        },
        "nteract": {
          "transient": {
            "deleting": false
          }
        }
      }
    },
    {
      "cell_type": "code",
      "source": [
        "import gradio\r\n",
        "from gradio.mix Parallel, Series"
      ],
      "outputs": [],
      "execution_count": 2,
      "metadata": {
        "collapsed": true,
        "jupyter": {
          "source_hidden": false,
          "outputs_hidden": false
        },
        "nteract": {
          "transient": {
            "deleting": false
          }
        },
        "gather": {
          "logged": 1622830554632
        }
      }
    },
    {
      "cell_type": "code",
      "source": [
        "pegasus-cnn = gradio.Interface.load(\r\n",
        "    \"huggingface/google/pegasus-cnn_dailymail\",\r\n",
        "    title = \"\",\r\n",
        "    description = \"\",\r\n",
        "    allow_flagging = False)\r\n",
        "\r\n",
        "custom = gradio.Interface(\"huggingface/google/pegasus-cnn_dailymail\", \"text\", \"text\")"
      ],
      "outputs": [],
      "execution_count": null,
      "metadata": {
        "gather": {
          "logged": 1622830909370
        }
      }
    },
    {
      "cell_type": "code",
      "source": [
        "Parallel().launch(share=True)"
      ],
      "outputs": [],
      "execution_count": null,
      "metadata": {
        "collapsed": true,
        "jupyter": {
          "source_hidden": false,
          "outputs_hidden": false
        },
        "nteract": {
          "transient": {
            "deleting": false
          }
        }
      }
    }
  ],
  "metadata": {
    "kernelspec": {
      "name": "python3",
      "language": "python",
      "display_name": "Python 3"
    },
    "language_info": {
      "name": "python",
      "version": "3.6.9",
      "mimetype": "text/x-python",
      "codemirror_mode": {
        "name": "ipython",
        "version": 3
      },
      "pygments_lexer": "ipython3",
      "nbconvert_exporter": "python",
      "file_extension": ".py"
    },
    "kernel_info": {
      "name": "python3"
    },
    "nteract": {
      "version": "nteract-front-end@1.0.0"
    }
  },
  "nbformat": 4,
  "nbformat_minor": 2
}