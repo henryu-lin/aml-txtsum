{
 "cells": [
  {
   "cell_type": "markdown",
   "metadata": {},
   "source": [
    "# AML HF Sample\n",
    "This sample will show how to fine-tune a summarization model with HuggingFace and DeepSpeed on AzureML.\n",
    "AzureML currently supports built in metric tracking and resource monitoring with no additional code."
   ]
  },
  {
   "cell_type": "markdown",
   "metadata": {},
   "source": [
    "## Setup\n",
    "### Installation\n",
    "Follow these steps to setup your AzureML workspace.  \n",
    "https://github.com/Azure/azureml-previews  \n",
    "## AML Workspace\n",
    "### Dataset\n",
    "\n",
    "### Environment\n",
    "### Training Scripts\n",
    "### Compute Target"
   ]
  },
  {
   "cell_type": "markdown",
   "metadata": {},
   "source": [
    "## AML Training Job\n",
    "### Begin Fine-tuning!"
   ]
  },
  {
   "cell_type": "markdown",
   "metadata": {},
   "source": [
    "## Sharing Results\n",
    "### TD: Retrieving resource metrics from AML workspace"
   ]
  },
  {
   "cell_type": "markdown",
   "metadata": {},
   "source": [
    "## "
   ]
  },
  {
   "cell_type": "markdown",
   "metadata": {},
   "source": [
    "## "
   ]
  }
 ],
 "metadata": {
  "kernelspec": {
   "display_name": "",
   "name": ""
  },
  "language_info": {
   "name": ""
  }
 },
 "nbformat": 4,
 "nbformat_minor": 4
}
