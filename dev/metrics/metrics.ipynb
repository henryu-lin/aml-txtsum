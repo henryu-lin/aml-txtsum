{
  "cells": [
    {
      "cell_type": "code",
      "source": [
        "import mlflow\r\n",
        "from mlflow.tracking import MlflowClient"
      ],
      "outputs": [],
      "execution_count": 2,
      "metadata": {
        "collapsed": true,
        "jupyter": {
          "source_hidden": false,
          "outputs_hidden": false
        },
        "nteract": {
          "transient": {
            "deleting": false
          }
        },
        "gather": {
          "logged": 1628697539739
        }
      }
    },
    {
      "cell_type": "code",
      "source": [
        "uri = \"azureml://westus2.api.azureml.ms/mlflow/v1.0/subscriptions/6560575d-fa06-4e7d-95fb-f962e74efd7a/resourceGroups/UW-Embeddings/providers/Microsoft.MachineLearningServices/workspaces/TxtSum\"\r\n",
        "mlflow.set_tracking_uri(uri)\r\n",
        "\r\n",
        "client = MlflowClient()\r\n",
        "\r\n",
        "expid = 'f8593a08-9c99-4d97-bbc2-9a99fb9d85c6'\r\n",
        "runid = 'b8ad2ad7-ecf8-481f-948e-e94761eeec09'\r\n",
        "\r\n",
        "experiment = client.get_experiment_by_name(\"demo\")\r\n",
        "print(experiment)\r\n",
        "run = client.get_run(runid)\r\n",
        "print(run)"
      ],
      "outputs": [
        {
          "output_type": "stream",
          "name": "stdout",
          "text": [
            "<Experiment: artifact_location='', experiment_id='f8593a08-9c99-4d97-bbc2-9a99fb9d85c6', lifecycle_stage='active', name='demo', tags={}>\n",
            "<Run: data=<RunData: metrics={'epoch': 3.0,\n",
            " 'eval_gen_len': 30.8704,\n",
            " 'eval_loss': 1.4273128509521484,\n",
            " 'eval_rouge1': 55.2131,\n",
            " 'eval_rouge2': 30.0843,\n",
            " 'eval_rougeL': 45.343,\n",
            " 'eval_rougeLsum': 50.6611,\n",
            " 'eval_runtime': 26.1953,\n",
            " 'eval_samples_per_second': 31.227,\n",
            " 'eval_steps_per_second': 0.267,\n",
            " 'learning_rate': 7.183908045977011e-07,\n",
            " 'loss': 0.9752,\n",
            " 'total_flos': 4.26008990669865e+16,\n",
            " 'train_loss': 1.2001634356619297,\n",
            " 'train_runtime': 203.4396,\n",
            " 'train_samples_per_second': 217.244,\n",
            " 'train_steps_per_second': 1.711}, params={}, tags={'_aml_system_ComputeTargetStatus': '{\"AllocationState\":\"steady\",\"PreparingNodeCount\":0,\"RunningNodeCount\":1,\"CurrentNodeCount\":1}',\n",
            " 'mlflow.source.name': '',\n",
            " 'mlflow.source.type': 'JOB'}>, info=<RunInfo: artifact_uri='azureml://experiments/demo/runs/b8ad2ad7-ecf8-481f-948e-e94761eeec09/artifacts', end_time=1625622778722, experiment_id='f8593a08-9c99-4d97-bbc2-9a99fb9d85c6', lifecycle_stage='active', run_id='b8ad2ad7-ecf8-481f-948e-e94761eeec09', run_uuid='b8ad2ad7-ecf8-481f-948e-e94761eeec09', start_time=1625622452726, status='FINISHED', user_id='bcebe9dd-feef-4d42-88df-0fc3101b8f29'>>\n"
          ]
        }
      ],
      "execution_count": 8,
      "metadata": {
        "collapsed": true,
        "jupyter": {
          "source_hidden": false,
          "outputs_hidden": false
        },
        "nteract": {
          "transient": {
            "deleting": false
          }
        },
        "gather": {
          "logged": 1628698175887
        }
      }
    },
    {
      "cell_type": "code",
      "source": [
        "print(run.info)"
      ],
      "outputs": [
        {
          "output_type": "stream",
          "name": "stdout",
          "text": [
            "<RunInfo: artifact_uri='azureml://experiments/demo/runs/b8ad2ad7-ecf8-481f-948e-e94761eeec09/artifacts', end_time=1625622778722, experiment_id='f8593a08-9c99-4d97-bbc2-9a99fb9d85c6', lifecycle_stage='active', run_id='b8ad2ad7-ecf8-481f-948e-e94761eeec09', run_uuid='b8ad2ad7-ecf8-481f-948e-e94761eeec09', start_time=1625622452726, status='FINISHED', user_id='bcebe9dd-feef-4d42-88df-0fc3101b8f29'>\n"
          ]
        }
      ],
      "execution_count": 9,
      "metadata": {
        "collapsed": true,
        "jupyter": {
          "source_hidden": false,
          "outputs_hidden": false
        },
        "nteract": {
          "transient": {
            "deleting": false
          }
        },
        "gather": {
          "logged": 1628698806233
        }
      }
    },
    {
      "cell_type": "code",
      "source": [
        "def print_metric_info(history):\r\n",
        "    for m in history:\r\n",
        "        print(\"name: {}\".format(m.key))\r\n",
        "        print(\"value: {}\".format(m.value))\r\n",
        "        print(\"step: {}\".format(m.step))\r\n",
        "        print(\"timestamp: {}\".format(m.timestamp))\r\n",
        "        print(\"--\")\r\n",
        "\r\n",
        "metrics = [\"eval_rouge1\", \"eval_rouge2\", \"eval_rougeL\"]\r\n",
        "for metric in metrics:\r\n",
        "    run_metrics = client.get_metric_history(run.info.run_id, metric)\r\n",
        "    print_metric_info(run_metrics)"
      ],
      "outputs": [
        {
          "output_type": "stream",
          "name": "stdout",
          "text": [
            "name: eval_rouge1\n",
            "value: 55.2131\n",
            "step: 0\n",
            "timestamp: 1625622730543\n",
            "--\n",
            "name: eval_rouge1\n",
            "value: 55.2131\n",
            "step: 0\n",
            "timestamp: 1625622731536\n",
            "--\n",
            "name: eval_rouge1\n",
            "value: 55.2131\n",
            "step: 0\n",
            "timestamp: 1625622731553\n",
            "--\n",
            "name: eval_rouge1\n",
            "value: 55.2131\n",
            "step: 0\n",
            "timestamp: 1625622731557\n",
            "--\n",
            "name: eval_rouge1\n",
            "value: 55.2131\n",
            "step: 0\n",
            "timestamp: 1625622731559\n",
            "--\n",
            "name: eval_rouge1\n",
            "value: 55.2131\n",
            "step: 0\n",
            "timestamp: 1625622731577\n",
            "--\n",
            "name: eval_rouge1\n",
            "value: 55.2131\n",
            "step: 0\n",
            "timestamp: 1625622731579\n",
            "--\n",
            "name: eval_rouge1\n",
            "value: 55.2131\n",
            "step: 0\n",
            "timestamp: 1625622731591\n",
            "--\n",
            "name: eval_rouge2\n",
            "value: 30.0843\n",
            "step: 0\n",
            "timestamp: 1625622730543\n",
            "--\n",
            "name: eval_rouge2\n",
            "value: 30.0843\n",
            "step: 0\n",
            "timestamp: 1625622731536\n",
            "--\n",
            "name: eval_rouge2\n",
            "value: 30.0843\n",
            "step: 0\n",
            "timestamp: 1625622731553\n",
            "--\n",
            "name: eval_rouge2\n",
            "value: 30.0843\n",
            "step: 0\n",
            "timestamp: 1625622731557\n",
            "--\n",
            "name: eval_rouge2\n",
            "value: 30.0843\n",
            "step: 0\n",
            "timestamp: 1625622731559\n",
            "--\n",
            "name: eval_rouge2\n",
            "value: 30.0843\n",
            "step: 0\n",
            "timestamp: 1625622731577\n",
            "--\n",
            "name: eval_rouge2\n",
            "value: 30.0843\n",
            "step: 0\n",
            "timestamp: 1625622731579\n",
            "--\n",
            "name: eval_rouge2\n",
            "value: 30.0843\n",
            "step: 0\n",
            "timestamp: 1625622731592\n",
            "--\n",
            "name: eval_rougeL\n",
            "value: 45.343\n",
            "step: 0\n",
            "timestamp: 1625622730543\n",
            "--\n",
            "name: eval_rougeL\n",
            "value: 45.343\n",
            "step: 0\n",
            "timestamp: 1625622731536\n",
            "--\n",
            "name: eval_rougeL\n",
            "value: 45.343\n",
            "step: 0\n",
            "timestamp: 1625622731553\n",
            "--\n",
            "name: eval_rougeL\n",
            "value: 45.343\n",
            "step: 0\n",
            "timestamp: 1625622731558\n",
            "--\n",
            "name: eval_rougeL\n",
            "value: 45.343\n",
            "step: 0\n",
            "timestamp: 1625622731559\n",
            "--\n",
            "name: eval_rougeL\n",
            "value: 45.343\n",
            "step: 0\n",
            "timestamp: 1625622731577\n",
            "--\n",
            "name: eval_rougeL\n",
            "value: 45.343\n",
            "step: 0\n",
            "timestamp: 1625622731579\n",
            "--\n",
            "name: eval_rougeL\n",
            "value: 45.343\n",
            "step: 0\n",
            "timestamp: 1625622731592\n",
            "--\n"
          ]
        }
      ],
      "execution_count": 7,
      "metadata": {
        "collapsed": true,
        "jupyter": {
          "source_hidden": false,
          "outputs_hidden": false
        },
        "nteract": {
          "transient": {
            "deleting": false
          }
        },
        "gather": {
          "logged": 1628698125652
        }
      }
    },
    {
      "cell_type": "markdown",
      "source": [
        "---"
      ],
      "metadata": {
        "nteract": {
          "transient": {
            "deleting": false
          }
        }
      }
    },
    {
      "cell_type": "code",
      "source": [
        "from azureml.core import Workspace, Experiment, Run\r\n",
        "\r\n",
        "ws = Workspace.from_config()\r\n",
        "mlflow.set_tracking_uri(ws.get_mlflow_tracking_uri())\r\n",
        "print(ws)\r\n",
        "print(ws.get_mlflow_tracking_uri())"
      ],
      "outputs": [
        {
          "output_type": "stream",
          "name": "stdout",
          "text": [
            "Workspace.create(name='txtsum', subscription_id='6560575d-fa06-4e7d-95fb-f962e74efd7a', resource_group='uw-embeddings')\n",
            "azureml://westus2.experiments.azureml.net/mlflow/v1.0/subscriptions/6560575d-fa06-4e7d-95fb-f962e74efd7a/resourceGroups/uw-embeddings/providers/Microsoft.MachineLearningServices/workspaces/txtsum?\n"
          ]
        }
      ],
      "execution_count": 11,
      "metadata": {
        "collapsed": true,
        "jupyter": {
          "source_hidden": false,
          "outputs_hidden": false
        },
        "nteract": {
          "transient": {
            "deleting": false
          }
        },
        "gather": {
          "logged": 1628662971158
        }
      }
    },
    {
      "cell_type": "code",
      "source": [
        "exp = ws.experiments\r\n",
        "print(exp)"
      ],
      "outputs": [
        {
          "output_type": "stream",
          "name": "stdout",
          "text": [
            "{'hf-dev': Experiment(Name: hf-dev,\n",
            "Workspace: txtsum), 'hf-trials': Experiment(Name: hf-trials,\n",
            "Workspace: txtsum), 'hf-sweep': Experiment(Name: hf-sweep,\n",
            "Workspace: txtsum), 'hf-dev-samsum': Experiment(Name: hf-dev-samsum,\n",
            "Workspace: txtsum), 'hf-samsum': Experiment(Name: hf-samsum,\n",
            "Workspace: txtsum), 'hf-tests': Experiment(Name: hf-tests,\n",
            "Workspace: txtsum), 'samsum': Experiment(Name: samsum,\n",
            "Workspace: txtsum), 'xsum': Experiment(Name: xsum,\n",
            "Workspace: txtsum), 'cnn': Experiment(Name: cnn,\n",
            "Workspace: txtsum), 'demo': Experiment(Name: demo,\n",
            "Workspace: txtsum), 'f8593a08-9c99-4d97-bbc2-9a99fb9d85c6': Experiment(Name: f8593a08-9c99-4d97-bbc2-9a99fb9d85c6,\n",
            "Workspace: txtsum)}\n"
          ]
        }
      ],
      "execution_count": 12,
      "metadata": {
        "collapsed": true,
        "jupyter": {
          "source_hidden": false,
          "outputs_hidden": false
        },
        "nteract": {
          "transient": {
            "deleting": false
          }
        },
        "gather": {
          "logged": 1628662974234
        }
      }
    },
    {
      "cell_type": "code",
      "source": [
        "exp1 = Experiment(ws, 'demo')\r\n",
        "run = Run(exp1, runid)\r\n",
        "print(run)"
      ],
      "outputs": [
        {
          "output_type": "stream",
          "name": "stdout",
          "text": [
            "Run(Experiment: demo,\n",
            "Id: b8ad2ad7-ecf8-481f-948e-e94761eeec09,\n",
            "Type: azureml.scriptrun,\n",
            "Status: Completed)\n"
          ]
        }
      ],
      "execution_count": 19,
      "metadata": {
        "collapsed": true,
        "jupyter": {
          "source_hidden": false,
          "outputs_hidden": false
        },
        "nteract": {
          "transient": {
            "deleting": false
          }
        },
        "gather": {
          "logged": 1628663773776
        }
      }
    },
    {
      "cell_type": "code",
      "source": [
        "exp_demo = exp[\"demo\"]\r\n",
        "for run in exp_demo.get_runs():\r\n",
        "    metrics = run.get_metrics()\r\n",
        "    \r\n",
        "    metric_name = \"eval_rouge1\"\r\n",
        "    my_metric = metrics.get(metric_name)\r\n",
        "    if my_metric:\r\n",
        "        print(\"eval_rouge1:\", my_metric)"
      ],
      "outputs": [
        {
          "output_type": "stream",
          "name": "stdout",
          "text": [
            "eval_rouge1:  [53.0823, 53.0823, 53.0823, 53.0823, 53.0823, 53.0823, 53.0823, 53.0823]\n",
            "eval_rouge1:  [52.6348, 52.6348, 52.6348, 52.6348, 52.6348, 52.6348, 52.6348, 52.6348]\n",
            "eval_rouge1:  [52.1776, 52.1776, 52.1776, 52.1776, 52.1776, 52.1776, 52.1776, 52.1776]\n",
            "eval_rouge1:  [53.681, 53.681, 53.681, 53.681, 53.681, 53.681, 53.681, 53.681]\n",
            "eval_rouge1:  [54.2641, 54.2641, 54.2641, 54.2641, 54.2641, 54.2641, 54.2641, 54.2641]\n",
            "eval_rouge1:  [55.2131, 55.2131, 55.2131, 55.2131, 55.2131, 55.2131, 55.2131, 55.2131]\n",
            "eval_rouge1:  [54.7788, 54.7788, 54.7788, 54.7788, 54.7788, 54.7788, 54.7788, 54.7788]\n"
          ]
        }
      ],
      "execution_count": 10,
      "metadata": {
        "collapsed": true,
        "jupyter": {
          "source_hidden": false,
          "outputs_hidden": false
        },
        "nteract": {
          "transient": {
            "deleting": false
          }
        },
        "gather": {
          "logged": 1628659871218
        }
      }
    }
  ],
  "metadata": {
    "kernelspec": {
      "name": "python38-azureml",
      "language": "python",
      "display_name": "Python 3.8 - AzureML"
    },
    "language_info": {
      "name": "python",
      "version": "3.8.1",
      "mimetype": "text/x-python",
      "codemirror_mode": {
        "name": "ipython",
        "version": 3
      },
      "pygments_lexer": "ipython3",
      "nbconvert_exporter": "python",
      "file_extension": ".py"
    },
    "kernel_info": {
      "name": "python38-azureml"
    },
    "nteract": {
      "version": "nteract-front-end@1.0.0"
    },
    "microsoft": {
      "host": {
        "AzureML": {
          "notebookHasBeenCompleted": true
        }
      }
    }
  },
  "nbformat": 4,
  "nbformat_minor": 2
}
