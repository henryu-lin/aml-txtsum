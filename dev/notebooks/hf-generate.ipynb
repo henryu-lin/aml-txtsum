{
  "cells": [
    {
      "cell_type": "code",
      "source": [
        "#transformers 4.6.1\r\n",
        "#pip freeze | cut -d'=' -f1 | xargs -n1 pip install -U\r\n",
        "#nvidia-smi\r\n",
        "#torch.cuda.is_available()\r\n",
        "#torch.cuda.empty_cache()\r\n",
        "import nltk\r\n",
        "#nltk.download('punkt')\r\n",
        "import numpy as np\r\n",
        "#import pandas as pd\r\n",
        "import torch\r\n",
        "#import argparse\r\n",
        "import mlflow\r\n",
        "#import azureml.core\r\n",
        "#import logging\r\n",
        "#import sys\r\n",
        "#import time\r\n",
        "import os\r\n",
        "from datasets import load_from_disk, load_metric\r\n",
        "from transformers.integrations import MLflowCallback, AzureMLCallback\r\n",
        "from transformers import (\r\n",
        "    AutoTokenizer,\r\n",
        "    AutoModelForSeq2SeqLM,\r\n",
        "    Seq2SeqTrainingArguments,\r\n",
        "    Seq2SeqTrainer,\r\n",
        "    DataCollatorForSeq2Seq,\r\n",
        "    set_seed,\r\n",
        "    #AutoConfig,\r\n",
        "    #HfArgumentParser\r\n",
        ")\r\n",
        "\r\n",
        "try:\r\n",
        "    nltk.data.find(\"tokenizers/punkt\")\r\n",
        "except (LookupError, OSError):\r\n",
        "    with FileLock(\".lock\") as lock:\r\n",
        "        nltk.download(\"punkt\", quiet=True)"
      ],
      "outputs": [],
      "execution_count": 1,
      "metadata": {
        "gather": {
          "logged": 1621814864749
        }
      }
    },
    {
      "cell_type": "code",
      "source": [
        "# download model (cache)\r\n",
        "#model_name = \"google/pegasus-xsum\"\r\n",
        "#model = AutoModelForSeq2SeqLM.from_pretrained(model_name, cache_dir = \"./cache\")\r\n",
        "#tokenizer = AutoTokenizer.from_pretrained(model_name, cache_dir = \"./cache\")\r\n",
        "\r\n",
        "# save model\r\n",
        "#model.save_pretrained(\"../model/pegasus-xsum\")\r\n",
        "#tokenizer.save_pretrained(\"../model/pegasus-xsum\")"
      ],
      "outputs": [],
      "execution_count": null,
      "metadata": {
        "collapsed": true,
        "jupyter": {
          "source_hidden": false,
          "outputs_hidden": false
        },
        "nteract": {
          "transient": {
            "deleting": false
          }
        },
        "gather": {
          "logged": 1621814207426
        }
      }
    },
    {
      "cell_type": "code",
      "source": [
        "model_path = \"../model/pegasus-xsum/\"\r\n",
        "device = \"cuda\" if torch.cuda.is_available() else \"cpu\"\r\n",
        "model = AutoModelForSeq2SeqLM.from_pretrained(model_path).to(device)\r\n",
        "tokenizer = AutoTokenizer.from_pretrained(model_path)"
      ],
      "outputs": [],
      "execution_count": 2,
      "metadata": {
        "collapsed": true,
        "jupyter": {
          "source_hidden": false,
          "outputs_hidden": false
        },
        "nteract": {
          "transient": {
            "deleting": false
          }
        },
        "gather": {
          "logged": 1621814945775
        }
      }
    },
    {
      "cell_type": "code",
      "source": [
        "data = load_from_disk(\"../data/xsum\")\r\n",
        "test_data = data[\"test\"].select(range(1000, 1004))\r\n",
        "test_data[0]"
      ],
      "outputs": [
        {
          "output_type": "execute_result",
          "execution_count": 3,
          "data": {
            "text/plain": "{'document': 'The Welsh Economy Research report showed 79% of direct spend was retained in Wales, and associations built nearly 2,000 affordable homes.\\nThis was an increase of 4% on the previous year.\\nThe annual report, commissioned by Community Housing Cymru, looked at the impact of social housing in Wales.\\n£1.1bn\\ncontributed to the economy in 2014/15\\n£872m of that was retained in Wales\\n1,923 new homes built in 2014/15\\n£301m on repairs/maintenance in 2014/15\\n£532m on regeneration in 2014/15',\n 'id': '34846955',\n 'summary': 'Welsh housing associations directly contributed more than £1bn to the economy in 2014/15, an independent report has said.'}"
          },
          "metadata": {}
        }
      ],
      "execution_count": 3,
      "metadata": {
        "collapsed": true,
        "jupyter": {
          "source_hidden": false,
          "outputs_hidden": false
        },
        "nteract": {
          "transient": {
            "deleting": false
          }
        },
        "gather": {
          "logged": 1621814949309
        }
      }
    },
    {
      "cell_type": "code",
      "source": [
        "# inference pipeline\r\n",
        "from transformers import SummarizationPipeline\r\n",
        "\r\n",
        "summarizer = SummarizationPipeline(model=model, tokenizer=tokenizer)\r\n",
        "summarizer(test_data[\"document\"], min_length=5, max_length=64)"
      ],
      "outputs": [
        {
          "output_type": "execute_result",
          "execution_count": 17,
          "data": {
            "text/plain": "[{'summary_text': 'Social housing contributed £1.1bn to the Welsh economy in 2014/15, according to a new report.'},\n {'summary_text': 'The Foreign Office is \"urgently\" working with the authorities in Thailand to establish whether a British national has died.'},\n {'summary_text': 'Plans for a new school campus in the Scottish Borders have moved a step closer.'},\n {'summary_text': 'A woman has been taken to hospital following a one-vehicle crash in Aberdeenshire.'}]"
          },
          "metadata": {}
        }
      ],
      "execution_count": 17,
      "metadata": {
        "collapsed": true,
        "jupyter": {
          "source_hidden": false,
          "outputs_hidden": false
        },
        "nteract": {
          "transient": {
            "deleting": false
          }
        },
        "gather": {
          "logged": 1621815461572
        }
      }
    },
    {
      "cell_type": "code",
      "source": [
        "# inference wip\r\n",
        "#from transformers import PegasusTokenizer, PegasusForConditionalGeneration\r\n",
        "\r\n",
        "#device = \"cuda\" if torch.cuda.is_available() else \"cpu\"\r\n",
        "#model_name = \"google/pegasus-xsum\"\r\n",
        "#model = PegasusForConditionalGeneration.from_pretrained(model_name, cache_dir = \"./cache\").to(device)\r\n",
        "#tokenizer = PegasusTokenizer.from_pretrained(model_name, cache_dir = \"./cache\")\r\n",
        "\r\n",
        "# pegasus-xsum content hallucination\r\n",
        "src_text = (\r\n",
        "\"It's no secret that NVIDIA is on the verge of releasing the GeForce RTX 3070 Ti and the GeForce RTX 3080 Ti. \"\r\n",
        "\"Despite the continued supply issues with both non-Ti versions of these cards, NVIDIA’s performance train must keep moving. \"\r\n",
        "\"However, it looks as though MSI jumped the gun a bit earlier today when it updated its website to include a product category \"\r\n",
        "\"for its upcoming GeForce RTX 3080 Ti graphics card family.\"\r\n",
        ")\r\n",
        "\r\n",
        "inputs = tokenizer([src_text], max_length=512, truncation=True, return_tensors='pt')\r\n",
        "summary_ids = model.generate(inputs['input_ids'])\r\n",
        "print([tokenizer.decode(g, skip_special_tokens=True, clean_up_tokenization_spaces=False) for g in summary_ids])"
      ],
      "outputs": [
        {
          "output_type": "stream",
          "name": "stdout",
          "text": [
            "[\"The MSI GeForce 3080 Ti graphics card is now available to pre-order from the company's website.\"]\n"
          ]
        }
      ],
      "execution_count": 13,
      "metadata": {
        "collapsed": true,
        "jupyter": {
          "source_hidden": false,
          "outputs_hidden": false
        },
        "nteract": {
          "transient": {
            "deleting": false
          }
        },
        "gather": {
          "logged": 1621815322856
        }
      }
    },
    {
      "cell_type": "code",
      "source": [
        "batch = tokenizer(src_text, truncation=True, padding=\"longest\", return_tensors='pt').to(device)\r\n",
        "translated = model.generate(**batch)\r\n",
        "tgt_text = tokenizer.batch_decode(translated, skip_special_tokens=True)\r\n",
        "print(tgt_text[0])"
      ],
      "outputs": [
        {
          "output_type": "stream",
          "name": "stdout",
          "text": [
            "The MSI GeForce 3080 Ti graphics card is now available to pre-order from the company's website.\n"
          ]
        }
      ],
      "execution_count": 9,
      "metadata": {
        "collapsed": true,
        "jupyter": {
          "source_hidden": false,
          "outputs_hidden": false
        },
        "nteract": {
          "transient": {
            "deleting": false
          }
        },
        "gather": {
          "logged": 1621815232160
        }
      }
    },
    {
      "cell_type": "code",
      "source": [
        "inputs = tokenizer.encode(src_text, max_length=512, truncation=True, return_tensors='pt')\r\n",
        "outputs = model.generate(inputs, max_length=64, min_length=10, length_penalty=0.8, num_beams=8, early_stopping=True)\r\n",
        "print(tokenizer.decode(outputs[0], skip_special_tokens=True))"
      ],
      "outputs": [
        {
          "output_type": "stream",
          "name": "stdout",
          "text": [
            "The MSI GeForce 3080 Ti graphics card is now available to pre-order from the company's website.\n"
          ]
        }
      ],
      "execution_count": 12,
      "metadata": {
        "collapsed": true,
        "jupyter": {
          "source_hidden": false,
          "outputs_hidden": false
        },
        "nteract": {
          "transient": {
            "deleting": false
          }
        },
        "gather": {
          "logged": 1621815290168
        }
      }
    },
    {
      "cell_type": "code",
      "source": [
        "# inference comparison\r\n",
        "def summarize(dataset, model):\r\n",
        "    inputs = tokenizer(\r\n",
        "        dataset[\"document\"],\r\n",
        "        truncation=True,\r\n",
        "        max_length = 512, #max_source_length #encoder_max_length\r\n",
        "        padding=True,\r\n",
        "        return_tensors = \"pt\"\r\n",
        "    )\r\n",
        "    input_ids = inputs.input_ids.to(model.device) # docs\r\n",
        "    attention_mask = inputs.attention_mask.to(model.device) # docs\r\n",
        "    outputs = model.generate(input_ids, attention_mask=attention_mask) # docs\r\n",
        "    summary_texts = tokenizer.batch_decode(outputs, skip_special_tokens=True)\r\n",
        "    return outputs, summary_texts\r\n",
        "\r\n",
        "#base_model = AutoModelForSeq2SeqLM.from_pretrained(model_path)\r\n",
        "\r\n",
        "#base_summaries = summarize(test_data, base_model)[1]\r\n",
        "finetuned_summaries = summarize(test_data, model)[1]"
      ],
      "outputs": [],
      "execution_count": 14,
      "metadata": {
        "collapsed": true,
        "jupyter": {
          "source_hidden": false,
          "outputs_hidden": false
        },
        "nteract": {
          "transient": {
            "deleting": false
          }
        },
        "gather": {
          "logged": 1621815364559
        }
      }
    },
    {
      "cell_type": "code",
      "source": [
        "# visualize summaries for manual comparison/evaluation\r\n",
        "# td format: df tables\r\n",
        "i = 1\r\n",
        "print(\"Source:\\n\" + test_data[\"document\"][i] + \"\\n\")\r\n",
        "print(\"Target:\\n\" + test_data[\"summary\"][i] + \"\\n\")\r\n",
        "print(\"Fine-tuned:\\n\" + finetuned_summaries[i] + \"\\n\")"
      ],
      "outputs": [
        {
          "output_type": "stream",
          "name": "stdout",
          "text": [
            "Source:\n",
            "Local reports from the southern resort island of Phuket say a British man died after turning a pistol on himself.\n",
            "The Foreign Office (FO) could not confirm the reports.\n",
            "An FO spokesman said: \"We are urgently working with the authorities in Thailand to establish whether a British national has died in Phuket.\"\n",
            "The Bangkok Post, quoted a taxi driver who said the man had hailed him near a local resort and asked to be taken somewhere where he could shoot. He had shown no signs of stress while in the taxi, the driver said.\n",
            "\n",
            "Target:\n",
            "The Foreign Office says it is urgently investigating reports that a British man has died at a shooting range in Thailand.\n",
            "\n",
            "Fine-tuned:\n",
            "The Foreign Office is \"urgently\" working with the authorities in Thailand to establish whether a British national has died.\n",
            "\n"
          ]
        }
      ],
      "execution_count": 15,
      "metadata": {
        "collapsed": true,
        "jupyter": {
          "source_hidden": false,
          "outputs_hidden": false
        },
        "nteract": {
          "transient": {
            "deleting": false
          }
        },
        "gather": {
          "logged": 1621815367726
        }
      }
    }
  ],
  "metadata": {
    "kernelspec": {
      "name": "python38-azureml",
      "language": "python",
      "display_name": "Python 3.8 - AzureML"
    },
    "language_info": {
      "name": "python",
      "version": "3.8.1",
      "mimetype": "text/x-python",
      "codemirror_mode": {
        "name": "ipython",
        "version": 3
      },
      "pygments_lexer": "ipython3",
      "nbconvert_exporter": "python",
      "file_extension": ".py"
    },
    "nteract": {
      "version": "nteract-front-end@1.0.0"
    },
    "kernel_info": {
      "name": "python38-azureml"
    },
    "microsoft": {
      "host": {
        "AzureML": {
          "notebookHasBeenCompleted": true
        }
      }
    }
  },
  "nbformat": 4,
  "nbformat_minor": 2
}