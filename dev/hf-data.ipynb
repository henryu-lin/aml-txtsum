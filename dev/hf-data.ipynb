{
  "cells": [
    {
      "cell_type": "code",
      "source": [
        "import nltk\r\n",
        "#nltk.download('punkt')\r\n",
        "import torch\r\n",
        "import numpy as np\r\n",
        "import datasets\r\n",
        "from datasets import load_dataset, load_from_disk\r\n",
        "#from transformers import AutoTokenizer, AutoModelForSeq2SeqLM, Seq2SeqTrainingArguments, Seq2SeqTrainer, DataCollatorForSeq2Seq, HfArgumentParser\r\n",
        "#from transformers.integrations import MLflowCallback, AzureMLCallback"
      ],
      "outputs": [],
      "execution_count": 1,
      "metadata": {
        "collapsed": true,
        "jupyter": {
          "source_hidden": false,
          "outputs_hidden": false
        },
        "nteract": {
          "transient": {
            "deleting": false
          }
        },
        "gather": {
          "logged": 1622245706370
        }
      }
    },
    {
      "cell_type": "markdown",
      "source": [
        "```python\r\n",
        "# td: FileSystems integration for cloud storage (abfs for Azure Blob service)\r\n",
        "#data = load_dataset(\"csv\", data_files={\"train\": \"crypto-news-train.csv\", \"validation\": \"crypto-news-validation.csv\"})\r\n",
        "#data = load_dataset(\"json\", data_files=\"corpus.json\")\r\n",
        "cached.save_to_disk(dir_path)\r\n",
        "data = load_from_disk(dir_path)\r\n",
        "```\r\n",
        "az ml data create --file hf-dataset.yml  "
      ],
      "metadata": {
        "nteract": {
          "transient": {
            "deleting": false
          }
        }
      }
    },
    {
      "cell_type": "code",
      "source": [
        "# WARNING: long process (xsum, cnn)\r\n",
        "#reddit = load_dataset(\"reddit\", cache_dir=\"../cache\")\r\n",
        "#cnn = load_dataset(\"cnn_dailymail\", \"3.0.0\", cache_dir=\"../cache\")\r\n",
        "#reddit_tifu = load_dataset(\"reddit_tifu\", \"long\", cache_dir=\"../cache\")\r\n",
        "#samsum = load_dataset(\"samsum\", cache_dir=\"../cache\")\r\n",
        "#cnn.save_to_disk(\"../data/cnn-dm\")\r\n",
        "#reddit_tifu.save_to_disk(\"../data/reddit-tifu\")\r\n",
        "#samsum.save_to_disk(\"../data/samsum\")"
      ],
      "outputs": [
        {
          "output_type": "execute_result",
          "execution_count": 12,
          "data": {
            "text/plain": "DatasetDict({\n    train: Dataset({\n        features: ['ups', 'num_comments', 'upvote_ratio', 'score', 'documents', 'tldr', 'title'],\n        num_rows: 42139\n    })\n})"
          },
          "metadata": {}
        }
      ],
      "execution_count": 12,
      "metadata": {
        "collapsed": true,
        "jupyter": {
          "source_hidden": false,
          "outputs_hidden": false
        },
        "nteract": {
          "transient": {
            "deleting": false
          }
        },
        "gather": {
          "logged": 1622247175911
        }
      }
    },
    {
      "cell_type": "code",
      "source": [
        "xsum = load_from_disk(\"../data/xsum\")\r\n",
        "xsum[\"train\"] = xsum[\"train\"].select(range(25600))\r\n",
        "xsum[\"validation\"] = xsum[\"validation\"].select(range(5120))\r\n",
        "xsum[\"test\"] = xsum[\"test\"].select(range(5120))\r\n",
        "xsum"
      ],
      "outputs": [
        {
          "output_type": "execute_result",
          "execution_count": 2,
          "data": {
            "text/plain": "DatasetDict({\n    train: Dataset({\n        features: ['document', 'id', 'summary'],\n        num_rows: 25600\n    })\n    validation: Dataset({\n        features: ['document', 'id', 'summary'],\n        num_rows: 5120\n    })\n    test: Dataset({\n        features: ['document', 'id', 'summary'],\n        num_rows: 5120\n    })\n})"
          },
          "metadata": {}
        }
      ],
      "execution_count": 2,
      "metadata": {
        "collapsed": true,
        "jupyter": {
          "source_hidden": false,
          "outputs_hidden": false
        },
        "nteract": {
          "transient": {
            "deleting": false
          }
        },
        "gather": {
          "logged": 1622246419178
        }
      }
    },
    {
      "cell_type": "code",
      "source": [
        "xsum[\"train\"][888]"
      ],
      "outputs": [
        {
          "output_type": "execute_result",
          "execution_count": 6,
          "data": {
            "text/plain": "{'document': 'Funding concerns had cast doubt over whether the city could remain a host port for the fourth consecutive year.\\nAbout 163,000 people were estimated to have enjoyed the Foyle Maritime Festival and Clipper events in 2016.\\nThe Â£200,000 deal to see the race come back will be rubber stamped by Derry City and Strabane District Council later this month.\\nDespite entering its own yacht in previous years, the council has not yet secured a team for the upcoming race.\\nIt said efforts to find private sponsorship would continue but would not be paid by ratepayers.\\nClipper Race chairman and founder Sir Robin Knox-Johnston said he was delighted to welcome the city back on to the race route.\\n\"Over the past six years the city has welcomed our international crew, supporters and partners with open arms and is an exceptional place to visit and do business with,\" he said.\\n\"The spirit of Derry-Londonderry and its people is contagious, which has consistently positioned itself as one of the most popular destinations the race has partnered with in its 20 year history.\"\\nThe race was established by Sir Robin, the first person to sail solo non-stop around the world, in 1996.\\nNearly half of all crew are novices and have no experience of sailing.\\nDerry\\'s mayor, Alderman Hilary McClintock, said the area would receive a big boost from the return of the race and the festival.\\n\"Council has given a commitment to host a major maritime themed festival on a bi-annual basis to build on the legacy of the Clipper Race partnership over the past six years and we are delighted to be a designated port for this global event.\\n\"During its last three races, the event allowed us to drive the visitor and tourism economy of the North West forward attracting both local and global audiences to our city and region,\" she added.',\n 'id': '39277141',\n 'summary': 'The Clipper Round the World Yacht Race is set to return to Londonderry in the summer of 2018.'}"
          },
          "metadata": {}
        }
      ],
      "execution_count": 6,
      "metadata": {
        "collapsed": true,
        "jupyter": {
          "source_hidden": false,
          "outputs_hidden": false
        },
        "nteract": {
          "transient": {
            "deleting": false
          }
        },
        "gather": {
          "logged": 1622246463144
        }
      }
    },
    {
      "cell_type": "code",
      "source": [
        "xsum.save_to_disk(\"../data/xsum-25600\")"
      ],
      "outputs": [],
      "execution_count": 3,
      "metadata": {
        "collapsed": true,
        "jupyter": {
          "source_hidden": false,
          "outputs_hidden": false
        },
        "nteract": {
          "transient": {
            "deleting": false
          }
        },
        "gather": {
          "logged": 1622246446192
        }
      }
    },
    {
      "cell_type": "code",
      "source": [
        "# reddit\r\n",
        "# features: ['author', 'subreddit', 'summary', 'text']\r\n",
        "# num_rows: 3848330\r\n",
        "#reddit = reddit[\"train\"].remove_columns([\"id\", \"subreddit_id\", \"body\", \"normalizedBody\"])\r\n",
        "#reddit = reddit.rename_column(\"content\", \"text\")\r\n",
        "#reddit.save_to_disk(\"../data/reddit\")\r\n",
        "#reddit = load_from_disk(\"../data/reddit\")\r\n",
        "#reddit"
      ],
      "outputs": [],
      "execution_count": null,
      "metadata": {
        "collapsed": true,
        "jupyter": {
          "source_hidden": false,
          "outputs_hidden": false
        },
        "nteract": {
          "transient": {
            "deleting": false
          }
        },
        "gather": {
          "logged": 1620687309179
        }
      }
    },
    {
      "cell_type": "code",
      "source": [
        "# reddit-dota\r\n",
        "# features: ['author', 'summary', 'text']\r\n",
        "# num_rows: 22366\r\n",
        "#dota = reddit.filter(lambda x: x[\"subreddit\"] == \"DotA2\")\r\n",
        "#dota = dota.remove_columns(\"subreddit\")\r\n",
        "\r\n",
        "# bad text/summary @ dota[9]\r\n",
        "#dota = dota.filter(lambda x: len(x[\"text\"]) > len(x[\"summary\"])) # source length > target length\r\n",
        "#dota.flatten_indices().save_to_disk(\"../data/reddit-dota\")\r\n",
        "dota = load_from_disk(\"../data/reddit-dota\")\r\n",
        "dota"
      ],
      "outputs": [],
      "execution_count": null,
      "metadata": {
        "collapsed": true,
        "jupyter": {
          "source_hidden": false,
          "outputs_hidden": false
        },
        "nteract": {
          "transient": {
            "deleting": false
          }
        },
        "gather": {
          "logged": 1620765475840
        }
      }
    },
    {
      "cell_type": "code",
      "source": [
        "# reddit-dota-proc\r\n",
        "# num_rows: 19949\r\n",
        "#max_text_length = 50000\r\n",
        "min_summary_length = 20\r\n",
        "max_ratio = 0.5\r\n",
        "min_ratio = 0.005\r\n",
        "#dota = dota.filter(lambda x: len(x[\"text\"]) <= max_text_length)\r\n",
        "proc = dota.filter(lambda x: len(x[\"summary\"]) >= min_summary_length)\r\n",
        "proc = proc.filter(lambda x: len(x[\"summary\"])/len(x[\"text\"]) <= max_ratio)\r\n",
        "proc = proc.filter(lambda x: len(x[\"summary\"])/len(x[\"text\"]) >= min_ratio)\r\n",
        "# bertscore filter?\r\n",
        "proc.flatten_indices().save_to_disk(\"../data/reddit-dota-proc\")\r\n",
        "proc"
      ],
      "outputs": [],
      "execution_count": null,
      "metadata": {
        "collapsed": true,
        "jupyter": {
          "source_hidden": false,
          "outputs_hidden": false
        },
        "nteract": {
          "transient": {
            "deleting": false
          }
        },
        "gather": {
          "logged": 1620765545591
        }
      }
    },
    {
      "cell_type": "code",
      "source": [
        "# reddit-dota-qtr\r\n",
        "# num_rows: 14389\r\n",
        "max_text_length = 3200\r\n",
        "min_summary_length = 30\r\n",
        "# 0.25(max: 128/512) & 0.125(max: 64/512)\r\n",
        "max_ratio = 0.25\r\n",
        "min_ratio = 0.01\r\n",
        "dota = load_from_disk(\"../data/reddit-dota-proc\")\r\n",
        "dota = dota.filter(lambda x: len(x[\"text\"]) <= max_text_length)\r\n",
        "dota = dota.filter(lambda x: len(x[\"summary\"]) >= min_summary_length)\r\n",
        "dota = dota.filter(lambda x: len(x[\"summary\"])/len(x[\"text\"]) <= max_ratio)\r\n",
        "dota = dota.filter(lambda x: len(x[\"summary\"])/len(x[\"text\"]) >= min_ratio)\r\n",
        "dota.flatten_indices().save_to_disk(\"../data/reddit-dota-qtr\")\r\n",
        "dota = load_from_disk(\"../data/reddit-dota-qtr\")\r\n",
        "dota"
      ],
      "outputs": [],
      "execution_count": null,
      "metadata": {
        "collapsed": true,
        "jupyter": {
          "source_hidden": false,
          "outputs_hidden": false
        },
        "nteract": {
          "transient": {
            "deleting": false
          }
        },
        "gather": {
          "logged": 1620765612229
        }
      }
    }
  ],
  "metadata": {
    "kernelspec": {
      "name": "python38-azureml",
      "language": "python",
      "display_name": "Python 3.8 - AzureML"
    },
    "language_info": {
      "name": "python",
      "version": "3.8.1",
      "mimetype": "text/x-python",
      "codemirror_mode": {
        "name": "ipython",
        "version": 3
      },
      "pygments_lexer": "ipython3",
      "nbconvert_exporter": "python",
      "file_extension": ".py"
    },
    "nteract": {
      "version": "nteract-front-end@1.0.0"
    },
    "kernel_info": {
      "name": "python38-azureml"
    },
    "microsoft": {
      "host": {
        "AzureML": {
          "notebookHasBeenCompleted": true
        }
      }
    }
  },
  "nbformat": 4,
  "nbformat_minor": 2
}